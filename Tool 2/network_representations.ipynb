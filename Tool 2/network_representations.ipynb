{
 "cells": [
  {
   "cell_type": "markdown",
   "id": "cf806c66",
   "metadata": {},
   "source": [
    "# Network Representation for Use-Cases\n",
    "Author Ilias Parmaksizoglou\n",
    "\n",
    "This notebook provided a quick tour on how to use the Network Representation for Use-Cases: The needed input is:\n",
    "\n",
    "* OSM map of examined area in .graphml format\n"
   ]
  },
  {
   "cell_type": "code",
   "execution_count": 170,
   "id": "b355edd7",
   "metadata": {},
   "outputs": [],
   "source": [
    "import osmnx as ox\n",
    "import networkx as nx\n",
    "import igraph as ig\n",
    "import os\n",
    "import imageio\n",
    "import pandas as pd\n",
    "from  matplotlib.colors import LinearSegmentedColormap"
   ]
  },
  {
   "cell_type": "code",
   "execution_count": 171,
   "id": "22e47084",
   "metadata": {},
   "outputs": [],
   "source": [
    "# Initiate Globals\n",
    "globals()[\"weight\"] = [\"travel_car\",\"travel_train\",\"speed_kph\",\"length\",\"lanes\"]\n",
    "cmap=LinearSegmentedColormap.from_list('rg',[\"g\", \"w\",\"y\",\"r\"], N=256) "
   ]
  },
  {
   "cell_type": "code",
   "execution_count": 172,
   "id": "13dfc322",
   "metadata": {},
   "outputs": [],
   "source": [
    "def transform_nx_to_igragh(G):\n",
    "    osmids = list(G.nodes)\n",
    "    G = nx.relabel.convert_node_labels_to_integers(G)\n",
    "    G_ig = ig.Graph(directed=True)\n",
    "    G_ig.add_vertices(G.nodes)\n",
    "    G_ig.add_edges(G.edges())\n",
    "    G_ig.vs[\"osmid\"] = osmids\n",
    "    for w in weight:\n",
    "        weights = list((nx.get_edge_attributes(G, w).values()))\n",
    "        try:        \n",
    "            weights = [int(float(w)) for w in weights]\n",
    "        except:\n",
    "            weights = [int(max(w)) for w in weights]\n",
    "        G_ig.es[w] = weights\n",
    "        osmid_values = {k: v for k, v in zip(G.nodes, osmids)}\n",
    "        nx.set_node_attributes(G, osmid_values, \"osmid\")\n",
    "        assert len(G.nodes()) == G_ig.vcount()\n",
    "        assert len(G.edges()) == G_ig.ecount()\n",
    "    return G,G_ig\n",
    "    "
   ]
  },
  {
   "cell_type": "code",
   "execution_count": 173,
   "id": "ee0ec293",
   "metadata": {},
   "outputs": [],
   "source": [
    "def get_max_speed(G_ig):\n",
    "    max_speed = {}\n",
    "    for edge in G_ig.es:\n",
    "        max_speed[edge.index] = edge[\"speed_kph\"]\n",
    "    return max_speed"
   ]
  },
  {
   "cell_type": "code",
   "execution_count": 174,
   "id": "ea58fba5",
   "metadata": {},
   "outputs": [],
   "source": [
    "def load_train_schedule(name=\"train_schedule.xlsx\"):\n",
    "    train_dir = os.path.join(os.getcwd(),\"core\\\\train\")\n",
    "    try:\n",
    "        df = pd.read_excel(os.path.join(train_dir,name))\n",
    "        df.set_index([\"u_ig\"], inplace = True)\n",
    "        return df\n",
    "    except:\n",
    "        pass"
   ]
  },
  {
   "cell_type": "code",
   "execution_count": 175,
   "id": "b44ad72d",
   "metadata": {},
   "outputs": [],
   "source": [
    "def plot_map(gdf_nodes,gdf_edges,area):\n",
    "\n",
    "    # Break down graph to nodes and edges\n",
    "    G = ox.graph_from_gdfs(gdf_nodes, gdf_edges)\n",
    "    edges = (gdf_edges[gdf_edges['mode'] ==\"train\"].index).tolist()\n",
    "    nodes_o = [x[0] for x in edges]\n",
    "    nodes_d = [x[1] for x in edges]\n",
    "    nodes = list(set(nodes_o) | set(nodes_d))\n",
    "\n",
    "    # Set plot Values\n",
    "    ec = ['y' if ((u,v,k) in edges) else 'b' for u, v, k in G.edges(keys=True)]\n",
    "    el = [3 if ((u,v,k) in edges) else 0.5 for u, v, k in G.edges(keys=True)]\n",
    "    nc = [\"g\" if (u in nodes) else \"b\" for u in G.nodes]\n",
    "    ns = [30 if (u in nodes) else 0.15 for u in G.nodes]\n",
    "\n",
    "    # Plot Map\n",
    "    ox.plot_graph(G,bgcolor = \"w\",edge_color = ec,edge_linewidth=el,node_color=nc,node_size=ns,figsize = (50,32),dpi = 300,save=True)"
   ]
  },
  {
   "cell_type": "code",
   "execution_count": 176,
   "id": "6439fa01",
   "metadata": {},
   "outputs": [],
   "source": [
    "def save_to_gif():\n",
    "    cwd = os.getcwd()\n",
    "    png_dir = 'core\\pics'\n",
    "    images = []\n",
    "    for file_name in sorted(os.listdir(os.path.join(cwd,png_dir))):\n",
    "        if file_name.endswith('.png'):\n",
    "            file_path = os.path.join(png_dir, file_name)\n",
    "            images.append(imageio.imread(file_path))\n",
    "    imageio.mimsave(os.path.join(cwd,png_dir,'movie.gif'), images,fps = 1)"
   ]
  },
  {
   "cell_type": "code",
   "execution_count": null,
   "id": "05f320a6",
   "metadata": {},
   "outputs": [],
   "source": [
    "# Initializing working directory and files\n",
    "core_dir = os.path.join(os.getcwd(),\"core\\maps\")\n",
    "area_name = \"milano\"\n",
    "area = f\"{area_name}.graphml\"\n",
    "\n",
    "# Loading OSM map from file\n",
    "G = ox.load_graphml(os.path.join(core_dir,area))\n",
    "gdf_nodes,gdf_edges = ox.graph_to_gdfs(G, nodes=True, edges=True, node_geometry=True, fill_edge_geometry=True)\n",
    "plot_map(gdf_nodes,gdf_edges,area_name)\n",
    "\n",
    "# Transforming to Igraph\n",
    "G,G_ig = transform_nx_to_igragh(G)\n",
    "\n",
    "# Retaining edge info from Networkx\n",
    "max_speed = get_max_speed(G_ig)\n",
    "\n",
    "# Loading train schedule if it exists\n",
    "df = load_train_schedule(name=\"train_schedule.xlsx\")"
   ]
  }
 ],
 "metadata": {
  "interpreter": {
   "hash": "23a60daba7729d6cdda901d2ed393ed13946829531838e8c05a55b79cf0dc8b2"
  },
  "kernelspec": {
   "display_name": "Python 3.9.7 ('def')",
   "language": "python",
   "name": "python3"
  },
  "language_info": {
   "codemirror_mode": {
    "name": "ipython",
    "version": 3
   },
   "file_extension": ".py",
   "mimetype": "text/x-python",
   "name": "python",
   "nbconvert_exporter": "python",
   "pygments_lexer": "ipython3",
   "version": "3.9.7"
  },
  "vscode": {
   "interpreter": {
    "hash": "973906beb376bf01cf4ed196cce834944a7b2cf178efdaec3a049755b5182aeb"
   }
  }
 },
 "nbformat": 4,
 "nbformat_minor": 5
}
