{
 "cells": [
  {
   "cell_type": "markdown",
   "id": "cf806c66",
   "metadata": {},
   "source": [
    "# Network Representation for Use-Cases\n",
    "Author Ilias Parmaksizoglou\n",
    "\n",
    "This notebook provided a quick tour on how to use the Network Representation for Use-Cases: The needed input is:\n",
    "\n",
    "* O-D matrix of randomized trips within the examined area\n",
    "* OSM map of examined area in .graphml format\n"
   ]
  },
  {
   "cell_type": "code",
   "execution_count": 47,
   "id": "b355edd7",
   "metadata": {},
   "outputs": [],
   "source": [
    "import osmnx as ox\n",
    "import networkx as nx\n",
    "import random \n",
    "import igraph as ig\n",
    "import os\n",
    "import time as tm\n",
    "import matplotlib.pyplot as plt\n",
    "import pandas as pd\n",
    "import numpy as np\n",
    "import math"
   ]
  },
  {
   "cell_type": "code",
   "execution_count": 48,
   "id": "f3abe6d1",
   "metadata": {},
   "outputs": [],
   "source": [
    "# Initialize globals\n",
    "globals()[\"num_trips\"] = 1000\n",
    "globals()[\"timesteps\"] = 60\n",
    "globals()[\"period\"] = 60\n",
    "globals()[\"weight\"] = [\"travel_car\",\"travel_train\",\"speed_kph\",\"length\",\"lanes\"]\n",
    "from  matplotlib.colors import LinearSegmentedColormap\n",
    "cmap=LinearSegmentedColormap.from_list('rg',[\"g\", \"w\",\"y\",\"r\"], N=256) "
   ]
  },
  {
   "cell_type": "code",
   "execution_count": 49,
   "id": "13dfc322",
   "metadata": {},
   "outputs": [],
   "source": [
    "def transform_nx_to_igragh(G):\n",
    "    osmids = list(G.nodes)\n",
    "    G = nx.relabel.convert_node_labels_to_integers(G)\n",
    "    G_ig = ig.Graph(directed=True)\n",
    "    G_ig.add_vertices(G.nodes)\n",
    "    G_ig.add_edges(G.edges())\n",
    "    G_ig.vs[\"osmid\"] = osmids\n",
    "    for w in weight:\n",
    "        weights = list((nx.get_edge_attributes(G, w).values()))\n",
    "        try:        \n",
    "            weights = [int(float(w)) for w in weights]\n",
    "        except:\n",
    "            weights = [int(max(w)) for w in weights]\n",
    "        G_ig.es[w] = weights\n",
    "        osmid_values = {k: v for k, v in zip(G.nodes, osmids)}\n",
    "        nx.set_node_attributes(G, osmid_values, \"osmid\")\n",
    "        assert len(G.nodes()) == G_ig.vcount()\n",
    "        assert len(G.edges()) == G_ig.ecount()\n",
    "    return G,G_ig\n",
    "    "
   ]
  },
  {
   "cell_type": "code",
   "execution_count": 50,
   "id": "54e593ed",
   "metadata": {},
   "outputs": [],
   "source": [
    "def adjust_for_next_period(G_ig,dict_path,routes,initial_start,edges_dict_veh):\n",
    "    for args in dict_path.items():\n",
    "        idx = args[0][1]\n",
    "        edge = G_ig.es[args[0][0]]\n",
    "        if args[1][1] >= (step)*period and args[1][0]<= (step-1)*period:\n",
    "            new_start_node = edge.target\n",
    "            initial_start[idx] = args[1][1] # Fix re-computing to be executed only once\n",
    "            index = routes[idx].index(new_start_node)\n",
    "            routes[idx] = routes[idx][index:]\n",
    "            steps_fill = step-1+math.ceil((args[1][1]-(step-1)*period)/period)\n",
    "            step_range = range(step,steps_fill)\n",
    "            for st in step_range:\n",
    "                if (args[0][0],st) not in edges_dict_veh.keys(): \n",
    "                    edges_dict_veh[args[0][0],st] = 0\n",
    "                edges_dict_veh[args[0][0],st] +=1\n",
    "        elif edge.target == routes[idx][-1] and args[1][1] <= (step)*period:\n",
    "            routes[idx] = []\n",
    "            initial_start[idx] = -1\n",
    "    return routes,initial_start,edges_dict_veh"
   ]
  },
  {
   "cell_type": "code",
   "execution_count": 51,
   "id": "71358757",
   "metadata": {},
   "outputs": [],
   "source": [
    "def generate_random_trips(G_ig,step,routes,initial_start,df,mode_split = 0.9):\n",
    "    random.seed(step)\n",
    "\n",
    "    # Handcrafted for Milano\n",
    "    malpensa_xpress = [28168, 6499, 4912, 47496, 60959, 59253, 66380, 32154, 1078]\n",
    "    airport_node = 4735\n",
    "\n",
    "    for t in range(0,num_trips):\n",
    "        if np.random.rand() >=mode_split:\n",
    "            opt_weight = \"travel_train\"\n",
    "            if np.random.rand() >=0.5:\n",
    "                orig = airport_node\n",
    "                dest = random.choice(malpensa_xpress)\n",
    "                starts = df.loc[orig,\"starts_from_malpensa\"].split(\",\")\n",
    "            else:\n",
    "                dest = airport_node\n",
    "                orig = random.choice(malpensa_xpress)   \n",
    "                starts = df.loc[orig,\"starts_from_center\"].split(\",\")      \n",
    "            route = G_ig.get_shortest_paths(v=orig, to=dest, weights=opt_weight)[0]\n",
    "            starts = df.loc[orig,\"starts_from_\"+\"center\"].split(\",\")\n",
    "            starts = [int(x)-step if int(x)*60-step*period > 0 else np.inf for x in starts]\n",
    "            initial_start[idx_t] = (min(starts)+step)*period\n",
    "        else:\n",
    "            opt_weight = \"travel_car\"\n",
    "            if np.random.rand() >=0.5:\n",
    "                orig = airport_node\n",
    "                dest = random.choice(G_ig.vs).index\n",
    "            else:\n",
    "                dest = airport_node\n",
    "                orig = random.choice(G_ig.vs).index\n",
    "            route = G_ig.get_shortest_paths(v=orig, to=dest, weights=opt_weight)[0]\n",
    "            idx_t = step*num_trips + t # Identifier of trip\n",
    "            initial_start[idx_t] = step*period \n",
    "        routes.append(route)\n",
    "    return routes,initial_start\n",
    "\n"
   ]
  },
  {
   "cell_type": "code",
   "execution_count": 52,
   "id": "fe97fbe7",
   "metadata": {},
   "outputs": [],
   "source": [
    "def update_dicts(G_ig,routes,initial_start,step,edges_dict_veh):\n",
    "    dict_path = {}\n",
    "    for idx_r,route in enumerate(routes):\n",
    "        cur_time = initial_start[idx_r]\n",
    "        for v in range(len(route)-1):\n",
    "            edge_id = G_ig.get_eid(G_ig.vs[route[v]], G_ig.vs[route[v+1]])\n",
    "            duration = min(G_ig.es[edge_id][weight[0]],G_ig.es[edge_id][weight[1]])\n",
    "            dict_path[edge_id,idx_r] = (round(cur_time,2) ,round(cur_time+duration,2))\n",
    "            \n",
    "            if (edge_id,step) not in edges_dict_veh.keys(): \n",
    "                edges_dict_veh[edge_id,step] = 0\n",
    "\n",
    "            if (step)*period <= round(cur_time,2) and (step+1)*period > round(cur_time,2):\n",
    "                edges_dict_veh[edge_id,step]+=1\n",
    "\n",
    "            cur_time+=duration\n",
    "    edges_dict_veh = {x:y for x,y in edges_dict_veh.items() if y!=0}\n",
    "    return dict_path,edges_dict_veh\n"
   ]
  },
  {
   "cell_type": "code",
   "execution_count": 53,
   "id": "fd68c3c5",
   "metadata": {},
   "outputs": [],
   "source": [
    "def update_gdfs(G_ig,gdf_edges,edges_dict_veh,step,max_speed):\n",
    "\n",
    "    # Update speeds of edges\n",
    "    edges_passengers = [0]*len(G_ig.es)\n",
    "    edges_speed_drop = [0]*len(G_ig.es)\n",
    "    edges_density = [0]*len(G_ig.es)\n",
    "    edges_speed = list(G_ig.es[\"speed_kph\"])\n",
    "    gdf_edges[\"passengers\"] = 0\n",
    "    gdf_edges[\"density\"] = 0\n",
    "    gdf_edges[\"speed_drop\"] = 0\n",
    "    for edge in G_ig.es:\n",
    "        index = edge.index\n",
    "        if (index,step) in edges_dict_veh.keys():\n",
    "            if edge['travel_train'] < edge['travel_car']:\n",
    "                passengers = edges_dict_veh[index,step]\n",
    "                density = round(passengers/500,2)\n",
    "                speed = round(999,1)\n",
    "            else:\n",
    "                passengers = edges_dict_veh[index,step]\n",
    "                density =  round(passengers/(edge['length']+1e-2),2)\n",
    "                speed = round(max(0.01,max_speed[index]*(1-(density/(0.15*edge['lanes'])))),1)\n",
    "                gdf_edges.at[(edge.source,edge.target,0),\"speed_drop\"]= 1-speed/max_speed[index]\n",
    "        else:\n",
    "            passengers = 0\n",
    "            density = 0\n",
    "            speed = round(edge[\"speed_kph\"],1)\n",
    "            gdf_edges.at[(edge.source,edge.target,0),\"speed_drop\"]\n",
    "        gdf_edges.at[(edge.source,edge.target,0),\"passengers\"] = passengers\n",
    "        gdf_edges.at[(edge.source,edge.target,0),\"density\"] = density\n",
    "        gdf_edges.at[(edge.source,edge.target,0),\"speed_kph\"]= speed\n",
    "        edges_passengers[index] = passengers\n",
    "        edges_density[index] =density\n",
    "        edges_speed[index] = speed\n",
    "    G_ig.es['passengers'] = edges_passengers\n",
    "    G_ig.es['density'] = edges_density\n",
    "    G_ig.es['speed_kph'] = edges_speed\n",
    "    return G_ig,gdf_edges"
   ]
  },
  {
   "cell_type": "code",
   "execution_count": 54,
   "id": "05f320a6",
   "metadata": {},
   "outputs": [],
   "source": [
    "# Loading OSM map from file\n",
    "core_dir = os.path.join(os.getcwd(),\"core\\maps\")\n",
    "area_name = \"delft\"\n",
    "area = f\"{area_name}.graphml\"\n",
    "G = ox.load_graphml(os.path.join(core_dir,area))\n",
    "\n",
    "G,G_ig = transform_nx_to_igragh(G)\n",
    "gdf_nodes,gdf_edges = ox.graph_to_gdfs(G, nodes=True, edges=True, node_geometry=True, fill_edge_geometry=True)\n",
    "\n",
    "max_speed = {}\n",
    "for edge in G_ig.es:\n",
    "    max_speed[edge.index] = edge[\"speed_kph\"]\n",
    "\n",
    "if area_name == \"milano\":\n",
    "    train_dir = os.path.join(os.getcwd(),\"core\\\\train\")\n",
    "    df = pd.read_excel(os.path.join(train_dir,\"train_schedule.xlsx\"))\n",
    "    df.set_index([\"u_ig\"], inplace = True)\n",
    "else:\n",
    "    df = []"
   ]
  },
  {
   "cell_type": "code",
   "execution_count": 55,
   "id": "dd1d27a8",
   "metadata": {
    "scrolled": false
   },
   "outputs": [
    {
     "name": "stderr",
     "output_type": "stream",
     "text": [
      "C:\\Users\\iparm\\AppData\\Local\\Temp\\ipykernel_4072\\4175132860.py:31: RuntimeWarning: Couldn't reach some vertices at src/paths/dijkstra.c:442\n",
      "  route = G_ig.get_shortest_paths(v=orig, to=dest, weights=opt_weight)[0]\n"
     ]
    },
    {
     "name": "stdout",
     "output_type": "stream",
     "text": [
      "Time in timestep 1 : 6.343709230422974\n"
     ]
    },
    {
     "name": "stderr",
     "output_type": "stream",
     "text": [
      "C:\\Users\\iparm\\AppData\\Local\\Temp\\ipykernel_4072\\4175132860.py:31: RuntimeWarning: Couldn't reach some vertices at src/paths/dijkstra.c:442\n",
      "  route = G_ig.get_shortest_paths(v=orig, to=dest, weights=opt_weight)[0]\n"
     ]
    },
    {
     "name": "stdout",
     "output_type": "stream",
     "text": [
      "Time in timestep 2 : 6.60668158531189\n"
     ]
    },
    {
     "name": "stderr",
     "output_type": "stream",
     "text": [
      "C:\\Users\\iparm\\AppData\\Local\\Temp\\ipykernel_4072\\4175132860.py:31: RuntimeWarning: Couldn't reach some vertices at src/paths/dijkstra.c:442\n",
      "  route = G_ig.get_shortest_paths(v=orig, to=dest, weights=opt_weight)[0]\n"
     ]
    },
    {
     "name": "stdout",
     "output_type": "stream",
     "text": [
      "Time in timestep 3 : 6.628130674362183\n"
     ]
    },
    {
     "name": "stderr",
     "output_type": "stream",
     "text": [
      "C:\\Users\\iparm\\AppData\\Local\\Temp\\ipykernel_4072\\4175132860.py:31: RuntimeWarning: Couldn't reach some vertices at src/paths/dijkstra.c:442\n",
      "  route = G_ig.get_shortest_paths(v=orig, to=dest, weights=opt_weight)[0]\n"
     ]
    },
    {
     "name": "stdout",
     "output_type": "stream",
     "text": [
      "Time in timestep 4 : 7.1302666664123535\n"
     ]
    },
    {
     "name": "stderr",
     "output_type": "stream",
     "text": [
      "C:\\Users\\iparm\\AppData\\Local\\Temp\\ipykernel_4072\\4175132860.py:31: RuntimeWarning: Couldn't reach some vertices at src/paths/dijkstra.c:442\n",
      "  route = G_ig.get_shortest_paths(v=orig, to=dest, weights=opt_weight)[0]\n"
     ]
    },
    {
     "name": "stdout",
     "output_type": "stream",
     "text": [
      "Time in timestep 5 : 6.896482944488525\n"
     ]
    },
    {
     "name": "stderr",
     "output_type": "stream",
     "text": [
      "C:\\Users\\iparm\\AppData\\Local\\Temp\\ipykernel_4072\\4175132860.py:31: RuntimeWarning: Couldn't reach some vertices at src/paths/dijkstra.c:442\n",
      "  route = G_ig.get_shortest_paths(v=orig, to=dest, weights=opt_weight)[0]\n"
     ]
    },
    {
     "name": "stdout",
     "output_type": "stream",
     "text": [
      "Time in timestep 6 : 6.955861330032349\n"
     ]
    },
    {
     "name": "stderr",
     "output_type": "stream",
     "text": [
      "C:\\Users\\iparm\\AppData\\Local\\Temp\\ipykernel_4072\\4175132860.py:31: RuntimeWarning: Couldn't reach some vertices at src/paths/dijkstra.c:442\n",
      "  route = G_ig.get_shortest_paths(v=orig, to=dest, weights=opt_weight)[0]\n"
     ]
    },
    {
     "name": "stdout",
     "output_type": "stream",
     "text": [
      "Time in timestep 7 : 7.096256732940674\n"
     ]
    },
    {
     "name": "stderr",
     "output_type": "stream",
     "text": [
      "C:\\Users\\iparm\\AppData\\Local\\Temp\\ipykernel_4072\\4175132860.py:31: RuntimeWarning: Couldn't reach some vertices at src/paths/dijkstra.c:442\n",
      "  route = G_ig.get_shortest_paths(v=orig, to=dest, weights=opt_weight)[0]\n"
     ]
    },
    {
     "name": "stdout",
     "output_type": "stream",
     "text": [
      "Time in timestep 8 : 7.285944223403931\n"
     ]
    },
    {
     "name": "stderr",
     "output_type": "stream",
     "text": [
      "C:\\Users\\iparm\\AppData\\Local\\Temp\\ipykernel_4072\\4175132860.py:31: RuntimeWarning: Couldn't reach some vertices at src/paths/dijkstra.c:442\n",
      "  route = G_ig.get_shortest_paths(v=orig, to=dest, weights=opt_weight)[0]\n"
     ]
    },
    {
     "name": "stdout",
     "output_type": "stream",
     "text": [
      "Time in timestep 9 : 7.136401414871216\n"
     ]
    },
    {
     "name": "stderr",
     "output_type": "stream",
     "text": [
      "C:\\Users\\iparm\\AppData\\Local\\Temp\\ipykernel_4072\\4175132860.py:31: RuntimeWarning: Couldn't reach some vertices at src/paths/dijkstra.c:442\n",
      "  route = G_ig.get_shortest_paths(v=orig, to=dest, weights=opt_weight)[0]\n"
     ]
    },
    {
     "name": "stdout",
     "output_type": "stream",
     "text": [
      "Time in timestep 10 : 7.13877010345459\n"
     ]
    },
    {
     "name": "stderr",
     "output_type": "stream",
     "text": [
      "C:\\Users\\iparm\\AppData\\Local\\Temp\\ipykernel_4072\\4175132860.py:31: RuntimeWarning: Couldn't reach some vertices at src/paths/dijkstra.c:442\n",
      "  route = G_ig.get_shortest_paths(v=orig, to=dest, weights=opt_weight)[0]\n"
     ]
    },
    {
     "name": "stdout",
     "output_type": "stream",
     "text": [
      "Time in timestep 11 : 7.203609943389893\n"
     ]
    },
    {
     "name": "stderr",
     "output_type": "stream",
     "text": [
      "C:\\Users\\iparm\\AppData\\Local\\Temp\\ipykernel_4072\\4175132860.py:31: RuntimeWarning: Couldn't reach some vertices at src/paths/dijkstra.c:442\n",
      "  route = G_ig.get_shortest_paths(v=orig, to=dest, weights=opt_weight)[0]\n"
     ]
    },
    {
     "name": "stdout",
     "output_type": "stream",
     "text": [
      "Time in timestep 12 : 7.3572914600372314\n"
     ]
    },
    {
     "name": "stderr",
     "output_type": "stream",
     "text": [
      "C:\\Users\\iparm\\AppData\\Local\\Temp\\ipykernel_4072\\4175132860.py:31: RuntimeWarning: Couldn't reach some vertices at src/paths/dijkstra.c:442\n",
      "  route = G_ig.get_shortest_paths(v=orig, to=dest, weights=opt_weight)[0]\n"
     ]
    },
    {
     "name": "stdout",
     "output_type": "stream",
     "text": [
      "Time in timestep 13 : 7.500676870346069\n",
      "Time in timestep 14 : 7.171918630599976\n"
     ]
    },
    {
     "name": "stderr",
     "output_type": "stream",
     "text": [
      "C:\\Users\\iparm\\AppData\\Local\\Temp\\ipykernel_4072\\4175132860.py:31: RuntimeWarning: Couldn't reach some vertices at src/paths/dijkstra.c:442\n",
      "  route = G_ig.get_shortest_paths(v=orig, to=dest, weights=opt_weight)[0]\n"
     ]
    },
    {
     "name": "stdout",
     "output_type": "stream",
     "text": [
      "Time in timestep 15 : 7.405609369277954\n"
     ]
    },
    {
     "name": "stderr",
     "output_type": "stream",
     "text": [
      "C:\\Users\\iparm\\AppData\\Local\\Temp\\ipykernel_4072\\4175132860.py:31: RuntimeWarning: Couldn't reach some vertices at src/paths/dijkstra.c:442\n",
      "  route = G_ig.get_shortest_paths(v=orig, to=dest, weights=opt_weight)[0]\n"
     ]
    },
    {
     "name": "stdout",
     "output_type": "stream",
     "text": [
      "Time in timestep 16 : 7.183195352554321\n"
     ]
    },
    {
     "name": "stderr",
     "output_type": "stream",
     "text": [
      "C:\\Users\\iparm\\AppData\\Local\\Temp\\ipykernel_4072\\4175132860.py:31: RuntimeWarning: Couldn't reach some vertices at src/paths/dijkstra.c:442\n",
      "  route = G_ig.get_shortest_paths(v=orig, to=dest, weights=opt_weight)[0]\n"
     ]
    }
   ],
   "source": [
    "# Initialize Dictionaries and Lists\n",
    "routes = [] # List of Networkx routes in the map (Vertex-to-Vertex)\n",
    "initial_start = {}\n",
    "edges_speed = {}\n",
    "edges_time = {}\n",
    "edges_dict_veh = {}\n",
    "for step in range(timesteps):\n",
    "\n",
    "    # Step 0 - Adjust route based on next time step\n",
    "    step1 = tm.time()\n",
    "    if step == 0:\n",
    "        pass\n",
    "    else:\n",
    "        routes,initial_start,edges_dict_veh = adjust_for_next_period(G_ig,dict_path,routes,initial_start,edges_dict_veh)\n",
    "\n",
    "    # Step 1 - Generate new routes\n",
    "    routes,initial_start = generate_random_trips(G_ig,step,routes,initial_start,df,mode_split=1.1)\n",
    "\n",
    "    # Step 2 - Update dict_path edges and number of vehicles\n",
    "    dict_path,edges_dict_veh = update_dicts(G_ig,routes,initial_start,step,edges_dict_veh)\n",
    "\n",
    "    # Step 3 - Update gdf_edges \n",
    "    G_ig,gdf_edges = update_gdfs(G_ig,gdf_edges,edges_dict_veh,step,max_speed)\n",
    "    \n",
    "    # #Step 4 Plot with Networkx\n",
    "    fig_heatmap1 = plt.figure(figsize=(20,16))\n",
    "    ax_heatmap1 = plt.axes()\n",
    "    ax_heatmap1.set(facecolor = \"white\")\n",
    "    ax_heatmap1.set_title(\"Speed Drop Heatmap in Delft Area step = {}\".format(step), fontsize=20)\n",
    "    gdf_edges.plot(ax=ax_heatmap1, cmap=cmap, column=\"speed_drop\", legend=True)\n",
    "    core_dir = os.path.join(os.getcwd(),\"core\\pics\")\n",
    "    plt.savefig(f\"{core_dir}\\step{step+1}\",dpi=125)\n",
    "    step2 = tm.time()\n",
    "    print(f\"Time in timestep {step+1} : {step2-step1}\")\n"
   ]
  },
  {
   "cell_type": "code",
   "execution_count": null,
   "id": "22ebe6c3",
   "metadata": {},
   "outputs": [
    {
     "name": "stderr",
     "output_type": "stream",
     "text": [
      "C:\\Users\\iparm\\AppData\\Local\\Temp\\ipykernel_5692\\3511651114.py:10: DeprecationWarning: Starting with ImageIO v3 the behavior of this function will switch to that of iio.v3.imread. To keep the current behavior (and make this warning dissapear) use `import imageio.v2 as imageio` or call `imageio.v2.imread` directly.\n",
      "  images.append(imageio.imread(file_path))\n"
     ]
    }
   ],
   "source": [
    "import os\n",
    "import imageio\n",
    "\n",
    "cwd = os.getcwd()\n",
    "png_dir = 'core\\pics'\n",
    "images = []\n",
    "for file_name in sorted(os.listdir(os.path.join(cwd,png_dir))):\n",
    "    if file_name.endswith('.png'):\n",
    "        file_path = os.path.join(png_dir, file_name)\n",
    "        images.append(imageio.imread(file_path))\n",
    "imageio.mimsave(os.path.join(cwd,png_dir,'movie.gif'), images,fps = 1)"
   ]
  }
 ],
 "metadata": {
  "interpreter": {
   "hash": "23a60daba7729d6cdda901d2ed393ed13946829531838e8c05a55b79cf0dc8b2"
  },
  "kernelspec": {
   "display_name": "Python 3.9.7 ('def')",
   "language": "python",
   "name": "python3"
  },
  "language_info": {
   "codemirror_mode": {
    "name": "ipython",
    "version": 3
   },
   "file_extension": ".py",
   "mimetype": "text/x-python",
   "name": "python",
   "nbconvert_exporter": "python",
   "pygments_lexer": "ipython3",
   "version": "3.9.7"
  },
  "vscode": {
   "interpreter": {
    "hash": "973906beb376bf01cf4ed196cce834944a7b2cf178efdaec3a049755b5182aeb"
   }
  }
 },
 "nbformat": 4,
 "nbformat_minor": 5
}
