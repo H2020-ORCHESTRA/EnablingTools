{
 "cells": [
  {
   "cell_type": "markdown",
   "id": "cf806c66",
   "metadata": {},
   "source": [
    "# Network Representation for Use-Cases\n",
    "Author Ilias Parmaksizoglou\n",
    "\n",
    "This notebook provided a quick tour on how to use the Network Representation for Use-Cases: The needed input is: \n",
    "* O-D matrix of randomized trips within the examined area\n",
    "* OSM map of examined area in .graphml format\n"
   ]
  },
  {
   "cell_type": "code",
   "execution_count": 122,
   "id": "b355edd7",
   "metadata": {},
   "outputs": [],
   "source": [
    "import osmnx as ox\n",
    "import networkx as nx\n",
    "import random \n",
    "import igraph as ig\n",
    "import os\n",
    "import time as tm\n",
    "import matplotlib.pyplot as plt"
   ]
  },
  {
   "cell_type": "code",
   "execution_count": 123,
   "id": "f3abe6d1",
   "metadata": {},
   "outputs": [],
   "source": [
    "# Initialize globals\n",
    "globals()[\"num_trips\"] = 1000\n",
    "globals()[\"timesteps\"] = 10\n",
    "globals()[\"period\"] = 60\n",
    "globals()[\"weight\"] = \"travel_time\""
   ]
  },
  {
   "cell_type": "code",
   "execution_count": 124,
   "id": "13dfc322",
   "metadata": {},
   "outputs": [],
   "source": [
    "def transform_nx_to_igragh(G,flag=True):\n",
    "    osmids = list(G.nodes)\n",
    "    if flag:\n",
    "        G = nx.relabel.convert_node_labels_to_integers(G)\n",
    "    G_ig = ig.Graph(directed=True)\n",
    "    G_ig.add_vertices(G.nodes)\n",
    "    G_ig.add_edges(G.edges())\n",
    "    G_ig.vs[\"osmid\"] = osmids\n",
    "    G_ig.es[weight] = list(nx.get_edge_attributes(G, weight).values())\n",
    "    osmid_values = {k: v for k, v in zip(G.nodes, osmids)}\n",
    "    nx.set_node_attributes(G, osmid_values, \"osmid\")\n",
    "    assert len(G.nodes()) == G_ig.vcount()\n",
    "    assert len(G.edges()) == G_ig.ecount()\n",
    "    return G,G_ig\n",
    "    "
   ]
  },
  {
   "cell_type": "code",
   "execution_count": 125,
   "id": "54e593ed",
   "metadata": {},
   "outputs": [],
   "source": [
    "def adjust_for_next_period(dict_path,routes,initial_start):\n",
    "    for args in dict_path.items():\n",
    "        idx = args[0][2]\n",
    "        if args[1][1] >= (step)*period and args[1][0]< (step)*period:\n",
    "            origin = args[0][1]\n",
    "            initial_start[idx] = args[1][1] # Fix re-computing to be executed only once\n",
    "            index = routes[idx].index(origin)\n",
    "            routes[idx] = routes[idx][index:]\n",
    "        elif args[0][1] == routes[idx][-1] and args[1][1] <= (step)*period:\n",
    "            routes[idx] = []\n",
    "            initial_start[idx] = -1\n",
    "    return routes,initial_start"
   ]
  },
  {
   "cell_type": "code",
   "execution_count": 126,
   "id": "e4fe07f3",
   "metadata": {},
   "outputs": [],
   "source": [
    "def generate_random_trips(G,G_ig,step,routes,initial_start):\n",
    "    random.seed(step)\n",
    "    for t in range(0,num_trips):\n",
    "        route = None\n",
    "        while route == None:\n",
    "            x = random.randrange(0,len(list(G.nodes)))          \n",
    "            y = random.randrange(0,len(list(G.nodes)))\n",
    "            route = G_ig.get_shortest_paths(v=list(G.nodes())[x], to=list(G.nodes())[y], weights=weight)[0]\n",
    "        idx_t = step*num_trips + t # Identifier of trip\n",
    "        initial_start[idx_t] = step*period # Original Start time of trip\n",
    "        routes.append(route)\n",
    "    return routes,initial_start"
   ]
  },
  {
   "cell_type": "code",
   "execution_count": 127,
   "id": "fe97fbe7",
   "metadata": {},
   "outputs": [],
   "source": [
    "def update_dicts(G,routes,initial_start,step):\n",
    "    dict_path = {}\n",
    "    edges_dict_veh = {}\n",
    "    for idx_r,route in enumerate(routes):\n",
    "        cur_time = initial_start[idx_r]\n",
    "        for v in range(len(route)-1):\n",
    "            duration = G.edges[route[v], route[v+1],0]['travel_time']\n",
    "            dict_path[(route[v],route[v+1],idx_r)] = (round(cur_time,2) ,round(cur_time+duration,2))\n",
    "\n",
    "            if  (route[v],route[v+1],step) not in edges_dict_veh.keys(): \n",
    "                edges_dict_veh[((route[v],route[v+1]),step)] = 0\n",
    "\n",
    "            if (step)*period <= dict_path[(route[v],route[v+1],idx_r)][0] and (step+1)*period > dict_path[(route[v],route[v+1],idx_r)][0]:\n",
    "                edges_dict_veh[((route[v],route[v+1]),step)]+=1\n",
    "            elif (step)*period >= dict_path[(route[v],route[v+1],idx_r)][0] and (step)*period < dict_path[(route[v],route[v+1],idx_r)][1]:\n",
    "                edges_dict_veh[((route[v],route[v+1]),step)]+=1\n",
    "\n",
    "            cur_time+=duration\n",
    "    return dict_path,edges_dict_veh"
   ]
  },
  {
   "cell_type": "code",
   "execution_count": 128,
   "id": "87dd11d4",
   "metadata": {},
   "outputs": [],
   "source": [
    "def update_gdfs(gdf_edges,edges_dict_veh,step,length,max_speed):\n",
    "\n",
    "    # Update speeds of edges\n",
    "    edges_speed = {}\n",
    "    edges_time = {}\n",
    "    edges_drop = {}\n",
    "    for index, row in gdf_edges.iterrows():\n",
    "    \n",
    "        if ((index[0],index[1]),step) in edges_dict_veh.keys():\n",
    "            dens = (edges_dict_veh[((index[0],index[1]),step)])/length[index]\n",
    "        else:\n",
    "            dens = 0\n",
    "\n",
    "        if type(row[\"lanes\"]) == list :\n",
    "            lanes = int(row[\"lanes\"][0])\n",
    "        else:\n",
    "            lanes = int(row[\"lanes\"])\n",
    "\n",
    "        # Travel Speed Update (km per hour)\n",
    "        sp = max(0.01,max_speed[index]*(1-(dens/(0.15*lanes))))\n",
    "\n",
    "        # Travel time update (seconds)\n",
    "        new_travel_time = 3600*(0.001*length[index])/sp\n",
    "        edges_speed[index] = sp\n",
    "        edges_time[index] = new_travel_time\n",
    "        edges_drop[index] = 1-sp/max_speed[index]\n",
    "\n",
    "    gdf_edges['speed_kph'] = gdf_edges.index.to_series().map(edges_speed)\n",
    "    gdf_edges['travel_time'] = gdf_edges.index.to_series().map(edges_time)\n",
    "    gdf_edges['drop'] = gdf_edges.index.to_series().map(edges_drop)\n",
    "    return gdf_edges"
   ]
  },
  {
   "cell_type": "code",
   "execution_count": 129,
   "id": "05f320a6",
   "metadata": {},
   "outputs": [],
   "source": [
    "# Loading OSM map from file\n",
    "core_dir = os.path.join(os.getcwd(),\"core\\maps\")\n",
    "area = \"delft.graphml\"\n",
    "G = ox.load_graphml(os.path.join(core_dir,area))\n",
    "\n",
    "# Break down to gdf_nodes and gdf_edges\n",
    "G,G_ig = transform_nx_to_igragh(G)\n",
    "gdf_nodes,gdf_edges = ox.graph_to_gdfs(G, nodes=True, edges=True, node_geometry=True, fill_edge_geometry=True)\n",
    "\n",
    "# Store Max Speeds and Lengths\n",
    "max_speed = {}\n",
    "length = {}\n",
    "for index, row in gdf_edges.iterrows():\n",
    "    max_speed[index] = int(row[\"speed_kph\"])\n",
    "    length[index] = (row[\"length\"])\n",
    "            "
   ]
  },
  {
   "cell_type": "code",
   "execution_count": null,
   "id": "dd1d27a8",
   "metadata": {
    "scrolled": false
   },
   "outputs": [],
   "source": [
    "# Initialize Dictionaries and Lists\n",
    "routes = [] # List of Networkx routes in the map (Vertex-to-Vertex)\n",
    "initial_start = {}\n",
    "edges_speed = {}\n",
    "edges_time = {}\n",
    "\n",
    "for step in range(timesteps):\n",
    "\n",
    "    # Step 0 - Adjust route based on next time step\n",
    "    step0 = tm.time()\n",
    "    if step == 0:\n",
    "        pass\n",
    "    else:\n",
    "        routes,initial_start = adjust_for_next_period(dict_path,routes,initial_start)\n",
    "    step1 = tm.time()\n",
    "    #print(\"step0:\", step1-step0)\n",
    "\n",
    "    # Step 1 - Generate new routes\n",
    "    routes,initial_start = generate_random_trips(G,G_ig,step,routes,initial_start)\n",
    "    step2 = tm.time()\n",
    "    #print(\"step1:\",step2-step1) \n",
    "    \n",
    "    # Step 2 - Update dict_path edges and number of vehicles\n",
    "    dict_path,edges_dict_veh = update_dicts(G,routes,initial_start,step)\n",
    "    step2 = tm.time()\n",
    "    #print(\"step2:\",step2-step1) \n",
    "\n",
    "    # Step 3 - Update gdf_edges \n",
    "    gdf_edges = update_gdfs(gdf_edges,edges_dict_veh,step,length,max_speed)\n",
    "    step3 = tm.time()\n",
    "    #print(\"step3:\",step3-step2)\n",
    "\n",
    "    # Step 4 - Restructure Graph\n",
    "    G = ox.graph_from_gdfs(gdf_nodes, gdf_edges)\n",
    "    G,G_ig = transform_nx_to_igragh(G,flag=False)\n",
    "    gdf_nodes,gdf_edges = ox.graph_to_gdfs(G, nodes=True, edges=True, node_geometry=True, fill_edge_geometry=True)\n",
    "    step4 = tm.time()\n",
    "    #print(\"step4:\",step4-step3) \n",
    "\n",
    "    # Step 5 - Draw network status\n",
    "    fig_heatmap1 = plt.figure(figsize=(20,16))\n",
    "    ax_heatmap1 = plt.axes()\n",
    "    ax_heatmap1.set(facecolor = \"white\")\n",
    "    ax_heatmap1.set_title(\"Speed Drop Heatmap in Delft Area step = {}\".format(step), fontsize=20)\n",
    "    gdf_edges.plot(ax=ax_heatmap1, cmap=\"viridis\", column=\"drop\", legend=True)\n",
    "    core_dir = os.path.join(os.getcwd(),\"core\\pics\")\n",
    "    plt.savefig(f\"{core_dir}\\step{step}\")\n",
    "    step5 = tm.time()\n",
    "    #print(\"step5:\",step5-step4) "
   ]
  },
  {
   "cell_type": "code",
   "execution_count": null,
   "id": "22ebe6c3",
   "metadata": {},
   "outputs": [],
   "source": [
    "import os\n",
    "import imageio\n",
    "\n",
    "cwd = os.getcwd()\n",
    "png_dir = 'core\\pics'\n",
    "images = []\n",
    "for file_name in sorted(os.listdir(os.path.join(cwd,png_dir))):\n",
    "    if file_name.endswith('.png'):\n",
    "        file_path = os.path.join(png_dir, file_name)\n",
    "        images.append(imageio.imread(file_path))\n",
    "imageio.mimsave(os.path.join(cwd,png_dir,'movie.gif'), images,fps = 2)"
   ]
  }
 ],
 "metadata": {
  "interpreter": {
   "hash": "23a60daba7729d6cdda901d2ed393ed13946829531838e8c05a55b79cf0dc8b2"
  },
  "kernelspec": {
   "display_name": "Python 3.9.7 ('def')",
   "language": "python",
   "name": "python3"
  },
  "language_info": {
   "codemirror_mode": {
    "name": "ipython",
    "version": 3
   },
   "file_extension": ".py",
   "mimetype": "text/x-python",
   "name": "python",
   "nbconvert_exporter": "python",
   "pygments_lexer": "ipython3",
   "version": "3.9.7"
  },
  "vscode": {
   "interpreter": {
    "hash": "973906beb376bf01cf4ed196cce834944a7b2cf178efdaec3a049755b5182aeb"
   }
  }
 },
 "nbformat": 4,
 "nbformat_minor": 5
}
