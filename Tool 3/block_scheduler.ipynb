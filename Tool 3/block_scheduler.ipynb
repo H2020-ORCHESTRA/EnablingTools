{
 "cells": [
  {
   "cell_type": "markdown",
   "metadata": {},
   "source": [
    "# Block-based scheduler for truck arrival smoothing \n",
    "Author Ilias Parmaksizoglou\n",
    "\n",
    "This notebook provided a quick tour on how to use the Block-based scheduler for truck arrival smoothing tool (3.1). THe needed input is :\n",
    "* Matrix of incoming trucks with stated flexibilities and preferences for each truck belonging to a company \n",
    "* Events table for the port, associating the arrival of a truck with an event on the port, e.g., arrival of a vessel\n",
    "\n",
    "The output of this tool is needed by further tools and contains a coarse schedule of truck arrivals across time windows"
   ]
  },
  {
   "cell_type": "code",
   "execution_count": 95,
   "metadata": {},
   "outputs": [],
   "source": [
    "import gurobipy as gp\n",
    "from gurobipy import GRB\n",
    "import pandas as pd\n",
    "import os"
   ]
  },
  {
   "cell_type": "markdown",
   "metadata": {},
   "source": [
    "# Load Data\n",
    "\n",
    "The two inputs are stored in the core folder, in the files \"info_trucks.csv\" and \"info_events.csv\". Some further parameters are derived from the nature of truck arrivals, while some port parameters are set accoding to user's preference. Specifically the following parameters can be set as desired:\n",
    "\n",
    "* pn : penalty factor for assignment above capacity\n",
    "* cap_w : max capacity inside the time-window \n",
    "* cap_s : max capacity inside the time-window for single destination"
   ]
  },
  {
   "cell_type": "code",
   "execution_count": 85,
   "metadata": {},
   "outputs": [],
   "source": [
    "core_dir = os.path.join(os.getcwd(),\"core\")\n",
    "trucks_namefile = \"info_trucks.csv\"\n",
    "trucks_eventsfile = \"info_events.csv\"\n",
    "\n",
    "# Load Trucks and Companies and Events\n",
    "trucks_data = pd.read_csv(os.path.join(core_dir,trucks_namefile))\n",
    "events_data = pd.read_csv(os.path.join(core_dir,trucks_eventsfile))\n",
    "all_companies = trucks_data[\"Company\"].unique()\n",
    "\n",
    "# Initialize MILP Variables\n",
    "multidict_input = {}\n",
    "for i,row in trucks_data.iterrows():\n",
    "    multidict_input[row[0]] = row[1], row[2],row[3],row[4],row[5],row[6],row[7]\n",
    "trucks,company,F_t_m,P_t,F_t_p,V_t,TY_t,AS_w = gp.multidict(multidict_input)\n",
    "\n",
    "for i,row in events_data.iterrows():\n",
    "    multidict_input[row[0]] = row[1], row[2]\n",
    "jobs, start, end=  gp.multidict(multidict_input)\n",
    "\n",
    "no_windows = len(set(trucks_data['Flex Early']))\n",
    "windows = range(1,no_windows+1)\n",
    "no_destinations = len(set(trucks_data['Destination']))\n",
    "destinations = range(1,no_destinations+1)\n",
    "no_trucks =  len((trucks_data['Destination']))\n",
    "\n",
    "# User stated Parameters\n",
    "pn = 25 # Penalty for assignment outside flexibility\n",
    "cap_w = 9\n",
    "cap_s = 5 # Capacity for a single yard "
   ]
  },
  {
   "cell_type": "code",
   "execution_count": 86,
   "metadata": {},
   "outputs": [],
   "source": [
    "\n",
    "# Create optimization model\n",
    "model = gp.Model('tas-tcs')\n",
    "\n",
    "# Derived Variables\n",
    "z = model.addVars(trucks, windows,jobs,vtype=GRB.BINARY, name=\"z\")\n",
    "d = model.addVars(trucks,vtype=GRB.CONTINUOUS, name=\"d\")\n",
    "s = model.addVars(windows,trucks,vtype=GRB.BINARY, name=\"s\")  \n"
   ]
  },
  {
   "cell_type": "markdown",
   "metadata": {},
   "source": [
    "Constraint 2 guarantees that each truck $t$ is assigned to a time-window $w$ consistent with the event $j_t$. This requirement can lead to violations of the flexibility zone that will ultimately lead to an auction (as the selected $w$ could be smaller than  $F_t^-$ or larger than $F_t^+$), but this approach fully embraces our flexibility framework. Constraint 3 prevents the assignment of a truck to a time-window not consistent with its associated event, while constraint 4 prevents the assignment of a truck to an event which is not $j_t$."
   ]
  },
  {
   "cell_type": "code",
   "execution_count": 87,
   "metadata": {},
   "outputs": [],
   "source": [
    "# Constraints (2) - (4)\n",
    "for t in trucks:\n",
    "    for j in jobs:\n",
    "        if j == V_t[t]:\n",
    "            model.addConstr(sum(z[t, w ,j] for w in windows if w >=start[j] and w <=end[j]) == 1)\n",
    "            model.addConstr(sum(z[t, w ,j] for w in windows if w <start[j] or w >end[j]) == 0)\n",
    "        else:\n",
    "            model.addConstr(sum(z[t, w, j] for w in windows) == 0)"
   ]
  },
  {
   "cell_type": "markdown",
   "metadata": {},
   "source": [
    " Constraints 5-6 compute the deviation from preferred arrival time-window, as they model the absolute value $|w-P_t|$ for every truck. The two constraints provide a lower bound for the deviation for the cases where assignment is before or after the preferred window. In case that assignment is within the flexibility zone, the deviation will be equal to the lower bound since this is a minimization problem."
   ]
  },
  {
   "cell_type": "code",
   "execution_count": 88,
   "metadata": {},
   "outputs": [],
   "source": [
    "# Constraint (5) - (6)\n",
    "for t in trucks:\n",
    "    for w in windows:\n",
    "        for j in jobs:\n",
    "            if j == V_t[t]:\n",
    "                model.addConstr(w-P_t[t]-d[t] <= no_windows*(1-z[t,w,j]))\n",
    "                model.addConstr(-w+P_t[t]-d[t] <= no_windows*(1-z[t,w,j]))      "
   ]
  },
  {
   "cell_type": "markdown",
   "metadata": {},
   "source": [
    "Constraints 7-8 guarantee that when the assignment is outside the flexibility zone of a truck, deviation is equal to $Pn$. In particular, the two constraints are dummy when $z_{twj}$=0, while they force $d_t$=$Pn$ when $z_{twj}$=1.\n",
    "Constraint 9 link an assignment outside the flexibility zone of a truck with the auction indicator for the truck's preferred arrival time-window. Essentially, when a truck cannot be assigned to a time-window within its flexibility zone, this constraint triggers an auction for its preferred time-window. Note that $P_t$ can change dynamically for those trucks that are requested to specify a new preferred time-window."
   ]
  },
  {
   "cell_type": "code",
   "execution_count": 89,
   "metadata": {},
   "outputs": [],
   "source": [
    "# Constraint (7) - (9)\n",
    "for t in trucks:\n",
    "    for w in windows:\n",
    "        for j in jobs:\n",
    "            if j == V_t[t] and w not in range(F_t_m[t],F_t_p[t]+1):\n",
    "                model.addConstr(d[t]-pn <= 1-z[t,w,j])\n",
    "                model.addConstr(d[t] >= pn*z[t,w,j])      \n",
    "                model.addConstr(s[P_t[t],t] >= z[t,w,j])\n"
   ]
  },
  {
   "cell_type": "markdown",
   "metadata": {},
   "source": [
    "Constraints 10-11 are capacity constraints formulated, respectively, for the total number of trucks allowed in the port at a single time-window, and for the total number of accepted trucks accessing a specific destination $y$ at time-window $w$. They are both needed as one regulates capacity at the whole terminal area level, the other one at the single destination level."
   ]
  },
  {
   "cell_type": "code",
   "execution_count": 91,
   "metadata": {},
   "outputs": [],
   "source": [
    "# Constraint (10)\n",
    "for w in windows:\n",
    "    model.addConstr(sum(z[t, w, j] for t in trucks for j in jobs) <=cap_w)\n",
    "\n",
    "# Constraint (11)\n",
    "for w in windows:\n",
    "    for y in destinations:\n",
    "        model.addConstr(sum(z[t, w, j] for t in trucks for j in jobs if TY_t[t] == y) <=cap_s)"
   ]
  },
  {
   "cell_type": "markdown",
   "metadata": {},
   "source": [
    "Constraints 12 are initially an empty set, as they are added on-the-fly if needed due to an auction mechanism. Constraint set 13 ensures that trucks are serviced at their procured time-window, while constraint set~\\ref{cam:15} prevents new auctions to occur for a time-window that has already been resolved."
   ]
  },
  {
   "cell_type": "code",
   "execution_count": 92,
   "metadata": {},
   "outputs": [],
   "source": [
    "# Constraint (12)\n",
    "for t in trucks:\n",
    "    for w in windows:\n",
    "        for j in jobs:\n",
    "            if j == V_t[t] and w == AS_w[t]:\n",
    "                model.addConstr(z[t,w,j] == 1)\n",
    "\n",
    "# Constraint (13)\n",
    "for t in trucks:\n",
    "    if AS_w[t] > 0 :\n",
    "        model.addConstr(sum(s[AS_w[t],t_prime] for t_prime in trucks)==0)\n",
    "\n",
    "\n"
   ]
  },
  {
   "cell_type": "markdown",
   "metadata": {},
   "source": [
    "The Objective function minimizes the total sum of deviations from the preferred arrival time-window across all trucks. The deviation of each truck is obtained in two different ways. It is equal to the absolute difference between the assigned and preferred time-window when the assignment is within the flexibility zone of the truck, or it is equal to $Pn$ otherwise. In practice, $Pn$ should be set to be relatively higher than any ``flexible\" deviation to disincentivize assignment outside the flexibility zone. If $Pn$ is relatively low, the algorithm will prioritize minimization of deviations, even if that may lead to an auction. Conversely, if $Pn$ is relatively high, the avoidance of auctions will be the primary objective."
   ]
  },
  {
   "cell_type": "code",
   "execution_count": 93,
   "metadata": {},
   "outputs": [
    {
     "name": "stdout",
     "output_type": "stream",
     "text": [
      "48.0\n"
     ]
    }
   ],
   "source": [
    "# Solve The Model\n",
    "# Objective Function\n",
    "model.setObjective(sum(d[t] for t in trucks), GRB.MINIMIZE)\n",
    "model.setParam(\"LogToConsole\",0)\n",
    "model.optimize()"
   ]
  },
  {
   "cell_type": "markdown",
   "metadata": {},
   "source": [
    "If the results is a feasilbe assignment then the schedule is save inside the core folders. In case of an assignment that results to an auction, a display message infrorms the user that the auction mechanism must be triggered"
   ]
  },
  {
   "cell_type": "code",
   "execution_count": null,
   "metadata": {},
   "outputs": [],
   "source": [
    "# Get the Results\n",
    "if model.Status == GRB.OPTIMAL:\n",
    "    auc_trucks = []\n",
    "    for w in windows:\n",
    "        for t in trucks:\n",
    "            if s[w,t].x >=0.99999:\n",
    "                if d[t].x == pn:\n",
    "                    auction_window = w\n",
    "                    auc_trucks.append(t)\n",
    "                    for t in trucks:\n",
    "                        for j in jobs:\n",
    "                            if z[t,auction_window,j].x >=0.99:\n",
    "                                auc_trucks.append(t)\n",
    "    if auc_trucks == []:\n",
    "        block_schedule = pd.DataFrame(columns=[\"Truck\",\"Window\",\"Destination\"])\n",
    "        count = 0\n",
    "        for w in windows:\n",
    "            for t in trucks:\n",
    "                for j in jobs:\n",
    "                    if z[t,w,j].x == 1:\n",
    "                        list_truck = [t,w,TY_t[t]]\n",
    "                        block_schedule.loc[count] = list_truck\n",
    "                        count+=1\n",
    "        block_schedule = block_schedule.set_index(\"Truck\")\n",
    "        block_schedule.to_csv(os.path.join(core_dir,\"schedule.csv\"))\n",
    "    else:\n",
    "        print(f\"Auction is needed in time window {auction_window} for Trucks: {auc_trucks} \")\n",
    "    "
   ]
  }
 ],
 "metadata": {
  "interpreter": {
   "hash": "23a60daba7729d6cdda901d2ed393ed13946829531838e8c05a55b79cf0dc8b2"
  },
  "kernelspec": {
   "display_name": "Python 3.9.7 ('def')",
   "language": "python",
   "name": "python3"
  },
  "language_info": {
   "codemirror_mode": {
    "name": "ipython",
    "version": 3
   },
   "file_extension": ".py",
   "mimetype": "text/x-python",
   "name": "python",
   "nbconvert_exporter": "python",
   "pygments_lexer": "ipython3",
   "version": "3.9.7"
  },
  "orig_nbformat": 4
 },
 "nbformat": 4,
 "nbformat_minor": 2
}
