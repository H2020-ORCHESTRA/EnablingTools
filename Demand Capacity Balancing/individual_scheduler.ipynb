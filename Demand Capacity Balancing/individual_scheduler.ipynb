{
 "cells": [
  {
   "cell_type": "markdown",
   "metadata": {},
   "source": [
    "# Individual scheduler for truck arrival smoothing \n",
    "Author Ilias Parmaksizoglou & Alessandro Bombelli\n",
    "\n",
    "This notebook provided a quick tour on how to use the Individual scheduler for truck arrival smoothing tool (3.2). The needed input is :\n",
    "* Matrix of incoming trucks arrivals with approximate ETA, chaperoning indicator and target destination\n",
    "* Feasible jobs combinations as derived by Job Generation for CAVs tool\n",
    "\n",
    "The output of this tool contains an exact arrival schedule for incoming truck arrivals"
   ]
  },
  {
   "cell_type": "code",
   "execution_count": 1,
   "metadata": {},
   "outputs": [],
   "source": [
    "import gurobipy as gp\n",
    "from gurobipy import GRB\n",
    "import pandas as pd\n",
    "import os"
   ]
  },
  {
   "cell_type": "markdown",
   "metadata": {},
   "source": [
    "# Load Data\n",
    "\n",
    "The two inputs are stored in the core folder, in the files \"jobs_combined.csv\" and \"arrivals_combined.csv\". The combined flag determines the method used to solve the PJS. Some further parameters are derived from the nature of truck arrivals, while some port parameters are set accoding to user's preference. Specifically the following parameters can be set as desired:\n",
    "\n",
    "* w_pen : penalty factor for assignment outside of time window\n",
    "* del_thres : Acceptable threshold of maximum incurred delay\n",
    "* no_cavs : Number of CAVs"
   ]
  },
  {
   "cell_type": "code",
   "execution_count": 2,
   "metadata": {},
   "outputs": [],
   "source": [
    "method = \"combined\"\n",
    "core_dir = os.path.join(os.getcwd(),\"core\")\n",
    "jobs_namefile = f\"jobs_{method}.csv\"\n",
    "arrivals_namefile = f\"arrivals_{method}.csv\"\n",
    "\n",
    "# Load Trucks and Companies and Events\n",
    "possible_jobs = pd.read_csv(os.path.join(core_dir,jobs_namefile))\n",
    "planned_arrivals = pd.read_csv(os.path.join(core_dir,arrivals_namefile))\n",
    "\n",
    "# Base Parameters\n",
    "no_destinations = len(set(planned_arrivals['Destination']))\n",
    "destinations = [f\"D{x}\" for x in range(1,no_destinations+1)]\n",
    "\n",
    "# User stated Parameters\n",
    "time_window_len = 60\n",
    "steps =  range(1,2*time_window_len)\n",
    "no_cavs = 3\n",
    "cavs = range(0,no_cavs)\n",
    "del_thres = 15\n",
    "w_pen = 3\n"
   ]
  },
  {
   "cell_type": "code",
   "execution_count": 3,
   "metadata": {},
   "outputs": [],
   "source": [
    "\n",
    "window = 5\n",
    "occupied = {} # Can pass occupied spots from previous time-windows here if need be\n",
    "\n",
    "window_trucks = planned_arrivals.loc[planned_arrivals[\"Window\"] == window]\n",
    "\n",
    "multidict_input = {}\n",
    "for i,row in window_trucks.iterrows():\n",
    "    multidict_input[row[0]] = row[1],row[2],row[3],row[5]\n",
    "trucks,t_win,target_dest,arrival,escort = gp.multidict(multidict_input)\n",
    "\n",
    "multidict_input = {}\n",
    "idx = 0\n",
    "window_jobs = possible_jobs.loc[possible_jobs[\"W\"] == window]\n",
    "for i,row in window_jobs.iterrows():\n",
    "    name_index = f\"J_{idx}\"\n",
    "    multidict_input[name_index] = row[0],row[1],row[2],row[3],row[4],row[5],row[6],row[7]\n",
    "    idx+=1\n",
    "jobs,Sq,W,TC,ET,LT,En,Ex,F = gp.multidict(multidict_input)\n",
    "\n",
    "N = {}\n",
    "for j in jobs:\n",
    "    N[j] = (len(Sq[j].split(\",\")))"
   ]
  },
  {
   "cell_type": "code",
   "execution_count": 4,
   "metadata": {},
   "outputs": [
    {
     "name": "stdout",
     "output_type": "stream",
     "text": [
      "Set parameter Username\n",
      "Academic license - for non-commercial use only - expires 2023-01-19\n"
     ]
    }
   ],
   "source": [
    "\n",
    "model = gp.Model('PJS')\n",
    "\n",
    "# Decision Variables\n",
    "z = model.addVars(jobs,steps,cavs,vtype=GRB.BINARY,name=\"z\")\n",
    "x = model.addVars(jobs,steps,cavs,vtype=GRB.BINARY,name=\"x\")\n",
    "w = model.addVars(jobs,trucks,vtype=GRB.BINARY,name=\"w\")\n",
    "k = model.addVars(destinations,steps,cavs,vtype=GRB.BINARY,name=\"k\")\n",
    "\n",
    "# Penalty DVs\n",
    "dv = model.addVars(trucks,vtype=GRB.INTEGER,name=\"dv\")\n",
    "wp = model.addVars(jobs,steps,cavs,vtype=GRB.INTEGER,name=\"wp\")"
   ]
  },
  {
   "cell_type": "markdown",
   "metadata": {},
   "source": [
    "Constraint 2 is a typical set-partitioning constraint that enforces each truck $t$ to be assigned to only one job among the ones containing $t$. With $\\mathcal{J}_t$, we mean the subset of jobs $\\mathcal{J}_t \\subseteq \\mathcal{J}$ containing truck $t$. Constraint set 3 enforces that only job-truck assignments that contain the considered truck $t$ are considered."
   ]
  },
  {
   "cell_type": "code",
   "execution_count": 5,
   "metadata": {},
   "outputs": [],
   "source": [
    "# Constraint (1) \n",
    "for t in trucks:\n",
    "    model.addConstr(sum(w[j,t] for j in jobs if t in Sq[j]) == 1)\n",
    "\n",
    "# Constraint (2) \n",
    "for t in trucks:\n",
    "    model.addConstr(sum(w[j,t] for j in jobs if t not in Sq[j]) == 0)\n"
   ]
  },
  {
   "cell_type": "markdown",
   "metadata": {},
   "source": [
    " Constraints 3 enforce that a CAV can start a job at most once inside the time-window, while constraints 4 enforce that the same CAV cannot perform more than one job at the same time. Note that constraint set 4 is not enforced for the fictitious CAV 0, this is taken care of by Constraint set 5. Constraint set 6 enforce that if a job is chosen, then exactly the number of trucks relating to this job should be selected. "
   ]
  },
  {
   "cell_type": "code",
   "execution_count": 6,
   "metadata": {},
   "outputs": [],
   "source": [
    "# Constraint (3)\n",
    "for j in jobs:\n",
    "    for c in cavs:\n",
    "        model.addConstr(sum(z[j,s,c] for s in steps) <=1)\n",
    "\n",
    "# Constraint (4) - (5)\n",
    "for s in steps:\n",
    "    for c in cavs:\n",
    "        if c >= 1:\n",
    "            model.addConstr(sum(z[j,s,c] for j in jobs) <=1)\n",
    "        else:\n",
    "            for y in destinations:\n",
    "                model.addConstr(sum(z[j,s,0] for j in jobs if y in F[j].split(\",\")) <=1)\n",
    "\n",
    "# Constraint (6)\n",
    "for j in jobs:\n",
    "    for s in steps:\n",
    "        for c in cavs:\n",
    "            model.addConstr((z[j,s,c] == 1) >> (sum(w[j,t] for t in trucks) == N[j])) # Fast\n"
   ]
  },
  {
   "cell_type": "markdown",
   "metadata": {},
   "source": [
    "Constraint set 7 defines a lower bound on the start-time of job $j$ by forcing it to be greater or equal to $ET_j$. $ET_j$ is defined in the pre-processing stage when creating bundles and is the latest arrival time at the gate among all trucks in job $j$. $LT_j$ is computed in a similar fashion. Constraints 8 influence variables $x_{jsc}$ so that, if a job is active, its length in terms of time-steps is equal to $LT_j - ET_j$ as computed by the bundling algorithm. These constraints imply that, when jobs are selected, they can be performed exactly as previously planned in terms of duration, and no unforeseen additional delay is accounted for."
   ]
  },
  {
   "cell_type": "code",
   "execution_count": 7,
   "metadata": {},
   "outputs": [],
   "source": [
    "# Constraint (7)\n",
    "for j in jobs:\n",
    "    for s in steps:\n",
    "        for c in cavs:\n",
    "            model.addConstr(ET[j]-s*z[j,s,c] <= steps[-1]*(1-z[j,s,c]))\n",
    "\n",
    "# Constraint (8)\n",
    "for j in jobs:\n",
    "    for s in steps:\n",
    "        cur_steps = range(s,steps[-1]+1)\n",
    "        for c in cavs:\n",
    "            model.addConstr((z[j,s,c] == 1) >> (sum(x[j,s_prime,c] for s_prime in cur_steps) == LT[j]-ET[j])) # Fast"
   ]
  },
  {
   "cell_type": "markdown",
   "metadata": {},
   "source": [
    "Constraints 9-10 are similar to constraints 4-5 and ensure that a single CAV does not execute multiple jobs simultaneously. Constraint set 11 links variables $z_{jsc}$ and $x_{jsc}$ by imposing that, if a certain $x_{jsc}$ is active, then one $z_{jsc}$ decision variable for the set of time-steps in the interval $\\left[s-(LT_j-ET_j),s\\right]$ should be unitary. This ensures that the job is still active at time-step $t$ (i.e., that $x_{jsc}$=1)."
   ]
  },
  {
   "cell_type": "code",
   "execution_count": 8,
   "metadata": {},
   "outputs": [],
   "source": [
    "# Constraint (9) - (10)\n",
    "for s in steps:\n",
    "    for c in cavs:\n",
    "        if c >= 1:\n",
    "            model.addConstr(sum(x[j,s,c] for j in jobs) <=1)\n",
    "        if c == 0:\n",
    "            for y in destinations:\n",
    "                model.addConstr(sum(x[j,s,c] for j in jobs if y in F[j].split(\",\")) <=1)\n",
    "\n",
    "# Constraint (11)\n",
    "for j in jobs:\n",
    "    job_length = LT[j] - ET[j]\n",
    "    for s in steps:\n",
    "        for c in cavs:\n",
    "            model.addConstr(sum(z[j, s_prime,c] for s_prime in steps if s_prime >s-job_length and s_prime <=s) == x[j,s,c])\n"
   ]
  },
  {
   "cell_type": "markdown",
   "metadata": {},
   "source": [
    "Constraints 12 determine the occupancy of all destinations $y \\in F^j$ if a specific $z_{jsc}$ is active by ``reserving\" destination $y$ via decision variable $k_{ysc}$ in the time range $\\left[s+En^j_i,s+Ex^j_i\\right]$, when such destination is occupied by a truck served by CAV $c$ as part of job $j$."
   ]
  },
  {
   "cell_type": "code",
   "execution_count": 9,
   "metadata": {},
   "outputs": [],
   "source": [
    "# Constraint (12)\n",
    "for j in jobs:\n",
    "    for s in steps:\n",
    "        for c in cavs:\n",
    "            for idx,i in enumerate(Sq[j].split(\",\")):\n",
    "                en = float(En[j].split(\",\")[idx])\n",
    "                ex = float(Ex[j].split(\",\")[idx])\n",
    "                duration = int(ex-en)\n",
    "                start = int(s+en)\n",
    "                stop = int(s+ex)\n",
    "                if stop in steps:\n",
    "                    model.addConstr((z[j,s,c] == 1) >> (sum(k[target_dest[i],s_prime,c] for s_prime in range(start,stop))==duration)) # Fast"
   ]
  },
  {
   "cell_type": "markdown",
   "metadata": {},
   "source": [
    "Constraint set 13 ensures that at most one CAV can block a destination at a specific time-step. Constraint set 14 implies that if a destination is occupied at a specific time-step $s$ by a job handled by CAV $c$, then one such job should be active ($x_{jsc}$=1). "
   ]
  },
  {
   "cell_type": "code",
   "execution_count": 10,
   "metadata": {},
   "outputs": [],
   "source": [
    "# Constraint (13)\n",
    "for s in steps:\n",
    "    for y in destinations:\n",
    "        model.addConstr(sum(k[y,s,c] for c in cavs) <=1)\n",
    "\n",
    "# Constraint (14)\n",
    "for y in destinations:\n",
    "    for s in steps:\n",
    "        for c in cavs:\n",
    "            if (y,s,c) not in occupied.keys():\n",
    "                model.addConstr(1-sum(x[j,s,c] for j in jobs if y in F[j].split(\",\")) <=steps[-1]*(1-k[y,s,c]))"
   ]
  },
  {
   "cell_type": "markdown",
   "metadata": {},
   "source": [
    "Constraints 15 - 17 determine prevent non-singleton jobs from being assigned to CAV 0 (15), singleton jobs for trucks needing to be chaperoned to be assigned to CAV 0 (16), and assign singleton jobs for trucks not needing to be chaperoned to CAV 0 (17). Constraint 18 blocks selections of CAVs that are occupied from jobs relating to a previous time-window."
   ]
  },
  {
   "cell_type": "code",
   "execution_count": 11,
   "metadata": {},
   "outputs": [],
   "source": [
    "# Constraint (15) - (17)    \n",
    "for j in jobs:\n",
    "    seq_j = list(Sq[j].split(\",\"))\n",
    "\n",
    "    if len(seq_j) >= 2:\n",
    "        model.addConstr(sum(z[j,s,0] for s in steps) == 0)\n",
    "    \n",
    "    if len(seq_j) == 1:\n",
    "        if escort[seq_j[0]] == 1:\n",
    "            model.addConstr(sum(z[j,s,0] for s in steps) == 0)\n",
    "        else:\n",
    "            model.addConstr(sum(z[j,s,0] for s in steps) == 1)\n",
    "\n",
    "# Constraint (18)  \n",
    "for i in occupied.keys():\n",
    "    model.addConstr(k[i] >= occupied[i])"
   ]
  },
  {
   "cell_type": "markdown",
   "metadata": {},
   "source": [
    "Constraints 19 determine the time deviation of truck $t$ from its arrival at the gate by setting $d_t=s \\cdot z_{jsc} -A_t$ for the active ($w_{jt}$,$z_{jsc}$) combination of decision variables. If a truck is serviced exactly when it reached the gate, then $s \\cdot z_{jsc} =A_t$ and hence $d_t$=0. Constraint 20 limits the maximum delay incurred by a truck at the gate to be below a threshold, which can be assigned by the port operator. In case the threshold leads to infeasibility, this is the parameter that we increase step-wise until a feasible solution is found. Constraint set 21 assigns an extra penalty to a job exceeding the current time-window proportionally to the amount of time-steps that the spillover is associated to. Note that the constraint is only defined for the subset of time-steps $\\mathcal{S}^{+}$ that might activate such penalty. "
   ]
  },
  {
   "cell_type": "code",
   "execution_count": 12,
   "metadata": {},
   "outputs": [],
   "source": [
    "# Constraint (19) \n",
    "for t in trucks:\n",
    "    for j in jobs:\n",
    "        model.addConstr((w[j,t] ==1) >> (sum(s*z[j,s,c] for s in steps for c in cavs)-arrival[t]==dv[t]))\n",
    "\n",
    "# Constraint (20) \n",
    "for t in trucks:\n",
    "    model.addConstr(dv[t] <=del_thres)           \n",
    "\n",
    "# Constraint (21) \n",
    "for j in jobs:\n",
    "    for s in steps:\n",
    "        for c in cavs:\n",
    "            if s> (time_window_len):\n",
    "                model.addConstr(wp[j,s,c] >= w_pen*(x[j,s,c]*s-time_window_len))"
   ]
  },
  {
   "cell_type": "markdown",
   "metadata": {},
   "source": [
    "The Objective function defines the total time cost of movements for trucks in a job plus the associated collective waiting cost. The first term in the objective maps the discrepancy between the earliest starting time of a job and the actual starting time, and is multiplied by the number of trucks involved in the job (disutility at the gate). The second term maps whether a specific job exceeded the width of the current time-window via a penalty factor (disutility inside the port terminal). "
   ]
  },
  {
   "cell_type": "code",
   "execution_count": null,
   "metadata": {},
   "outputs": [],
   "source": [
    "model.setObjective(sum(z[j,s,c]*(TC[j]+ N[j]*(s-ET[j]))+wp[j,s,c] for j in jobs for s in steps for c in cavs)\n",
    "                    ,GRB.MINIMIZE)\n",
    "\n",
    "model.optimize()\n",
    "obj = model.getObjective()"
   ]
  },
  {
   "cell_type": "markdown",
   "metadata": {},
   "source": [
    "Save the occupied time-slots from next time-window to file as well as the final job selection and schedule"
   ]
  },
  {
   "cell_type": "code",
   "execution_count": 14,
   "metadata": {},
   "outputs": [],
   "source": [
    "df = pd.DataFrame(columns = [\"Truck\",\"Arrival\",\"Start\",\"End\",\"Deviation\",\"CAV\"])\n",
    "for j in jobs:\n",
    "    for s in steps:\n",
    "        for c in cavs:\n",
    "            if s> time_window_len:\n",
    "                for y in destinations:\n",
    "                    if k[y,s,c].x >=0.9999:\n",
    "                        occupied[y,s-time_window_len,c]=1\n",
    "\n",
    "for j in jobs:\n",
    "    for t in trucks:\n",
    "        if w[j,t].x >= 0.99:\n",
    "            for s in steps:\n",
    "                for c in cavs:\n",
    "                    if z[j,s,c].x >= 0.99:\n",
    "                        df2 = pd.DataFrame({\"Truck\" : [t],\n",
    "                                                    \"Arrival\" : [(window-1)*time_window_len+arrival[t]],\n",
    "                                                    \"Start\" : [(window-1)*time_window_len+s],\n",
    "                                                    \"End\" : [(window-1)*time_window_len+s+LT[j]-ET[j]],\n",
    "                                                    \"Deviation\" : [dv[t].x],\n",
    "                                                    \"CAV\" : [c]\n",
    "                                                    })\n",
    "                        df = pd.concat([df, df2], ignore_index = True, axis = 0)\n",
    "\n",
    "df.to_csv(os.path.join(core_dir,f\"individual_schedule_{window}.csv\"))"
   ]
  }
 ],
 "metadata": {
  "interpreter": {
   "hash": "23a60daba7729d6cdda901d2ed393ed13946829531838e8c05a55b79cf0dc8b2"
  },
  "kernelspec": {
   "display_name": "Python 3.9.7 ('def')",
   "language": "python",
   "name": "python3"
  },
  "language_info": {
   "codemirror_mode": {
    "name": "ipython",
    "version": 3
   },
   "file_extension": ".py",
   "mimetype": "text/x-python",
   "name": "python",
   "nbconvert_exporter": "python",
   "pygments_lexer": "ipython3",
   "version": "3.9.7"
  },
  "orig_nbformat": 4
 },
 "nbformat": 4,
 "nbformat_minor": 2
}
