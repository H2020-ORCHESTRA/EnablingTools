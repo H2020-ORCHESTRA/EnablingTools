{
 "cells": [
  {
   "cell_type": "markdown",
   "metadata": {},
   "source": [
    "# Auction Mechanism for conflict resolution\n",
    "Author Ilias Parmaksizoglou & Alessandro Bombelli\n",
    "\n",
    "This notebook contains a simple implementation of a VCG Auction for the case where Tool 3.1 assignment, exceeds demand. All stated input are arbitrary"
   ]
  },
  {
   "cell_type": "code",
   "execution_count": 31,
   "metadata": {},
   "outputs": [],
   "source": [
    "import gurobipy as gp\n",
    "from gurobipy import GRB"
   ]
  },
  {
   "cell_type": "markdown",
   "metadata": {},
   "source": [
    "# Load Data\n",
    "\n",
    "A simple case where three companies compete for 4 spots in total in a terminal with two destionations in total. C1 is interesetd in two spots, C2 in all 4 and C3 in only 1. All bid valuations and target destinations are generated arbitrarily"
   ]
  },
  {
   "cell_type": "code",
   "execution_count": 32,
   "metadata": {},
   "outputs": [],
   "source": [
    "B, B_val = gp.multidict({\n",
    "    ('C1',1): [2],\n",
    "    ('C1',2): [3],\n",
    "    ('C2',1): [2],\n",
    "    ('C2',2): [4],\n",
    "    ('C2',3): [5],\n",
    "    ('C2',4): [6],\n",
    "    ('C3',1): [1]\n",
    " })\n",
    "\n",
    "C, y1_spots,y2_spots = gp.multidict({\n",
    "    'C1': [1,1],\n",
    "    'C2': [3,1],\n",
    "    'C3': [0,1]\n",
    " })\n",
    "\n",
    "# User Stated parameters\n",
    "cap_s = 2 # Capacity of a single yard\n",
    "cap_w = 4 # Capacity of terminal in total\n",
    "yards = range(1,3) # \n",
    "spots = (range(1,cap_w+1)) # Maximum Available spots in total\n",
    "companies = [\"C1\",\"C2\",\"C3\"]\n"
   ]
  },
  {
   "cell_type": "code",
   "execution_count": 33,
   "metadata": {},
   "outputs": [],
   "source": [
    "# Create optimization model\n",
    "model = gp.Model('vcg')\n",
    "\n",
    "# Derived Variables\n",
    "x = model.addVars(B,vtype=GRB.BINARY, name=\"x\")\n",
    "a = model.addVars(companies,yards,vtype=GRB.INTEGER, name=\"a\")\n",
    "d = model.addVars(yards,vtype=GRB.INTEGER, name=\"d\")"
   ]
  },
  {
   "cell_type": "markdown",
   "metadata": {},
   "source": [
    "Constraint 1 determines an upper bound for spots acquired by a company at a specific destination based on their demand and the number of spots relating to a specific bid."
   ]
  },
  {
   "cell_type": "code",
   "execution_count": 34,
   "metadata": {},
   "outputs": [],
   "source": [
    "# Constraint 1\n",
    "\n",
    "for y in yards:\n",
    "    for c in companies:\n",
    "        if y == 1:\n",
    "            model.addConstr(y1_spots[c]*sum(x[b] for b in B if b[0] == c)>= a[c,y])\n",
    "        if y == 2:\n",
    "            model.addConstr(y2_spots[c]*sum(x[b] for b in B if b[0] == c)>= a[c,y])"
   ]
  },
  {
   "cell_type": "markdown",
   "metadata": {},
   "source": [
    "Constraints 2 defines a lower bound for the number of spots that a company can acquire, by forcing that if a bid has been accepted, then the number of spots acquired should be greater or equal to the number of spots that bid referred to."
   ]
  },
  {
   "cell_type": "code",
   "execution_count": 35,
   "metadata": {},
   "outputs": [],
   "source": [
    "for b in B:\n",
    "    model.addConstr(b[1] - sum(a[b[0],y] for y in yards) <= cap_w*(1-x[b]))"
   ]
  },
  {
   "cell_type": "markdown",
   "metadata": {},
   "source": [
    "Constraint set 3 imposes that each company can be rewarded, at most, one winning bid. Constraints 4 - 5 define the number of spots allocated per destination during the time-window and the number of spots for the port in total."
   ]
  },
  {
   "cell_type": "code",
   "execution_count": 36,
   "metadata": {},
   "outputs": [
    {
     "data": {
      "text/plain": [
       "<gurobi.Constr *Awaiting Model Update*>"
      ]
     },
     "execution_count": 36,
     "metadata": {},
     "output_type": "execute_result"
    }
   ],
   "source": [
    "# Constraint 3\n",
    "for c in companies:\n",
    "    model.addConstr(sum(x[b] for b in B if b[0] == c)<=1)\n",
    "\n",
    "# Constraint 4\n",
    "for y in yards:\n",
    "    model.addConstr(sum(a[c,y] for c in companies) <=cap_s)\n",
    "\n",
    "# Constraint 5\n",
    "model.addConstr(sum(a[c,y] for c in companies for y in yards) <=cap_w)"
   ]
  },
  {
   "cell_type": "markdown",
   "metadata": {},
   "source": [
    "The Objective function maximizes the social welfare of the system based on the provided bids by agents."
   ]
  },
  {
   "cell_type": "code",
   "execution_count": null,
   "metadata": {},
   "outputs": [],
   "source": [
    "# Solve The Model\n",
    "#model.setParam(\"LogToConsole\",0)\n",
    "model.setObjective(sum(x[b]*B_val[b] for b in B), GRB.MAXIMIZE)\n",
    "model.optimize()\n",
    "\n",
    "a = []\n",
    "for b in B:\n",
    "    if x[b].x >=0.99:\n",
    "        print(f\"Company {b[0]} won {b[1]} spots\")\n",
    "   \n"
   ]
  }
 ],
 "metadata": {
  "interpreter": {
   "hash": "23a60daba7729d6cdda901d2ed393ed13946829531838e8c05a55b79cf0dc8b2"
  },
  "kernelspec": {
   "display_name": "Python 3.9.7 ('def')",
   "language": "python",
   "name": "python3"
  },
  "language_info": {
   "codemirror_mode": {
    "name": "ipython",
    "version": 3
   },
   "file_extension": ".py",
   "mimetype": "text/x-python",
   "name": "python",
   "nbconvert_exporter": "python",
   "pygments_lexer": "ipython3",
   "version": "3.9.7"
  },
  "orig_nbformat": 4
 },
 "nbformat": 4,
 "nbformat_minor": 2
}
